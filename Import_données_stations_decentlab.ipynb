{
  "cells": [
    {
      "cell_type": "markdown",
      "metadata": {
        "id": "view-in-github",
        "colab_type": "text"
      },
      "source": [
        "<a href=\"https://colab.research.google.com/github/destaerc/Yverdon_les_tropiques/blob/main/Import_donn%C3%A9es_stations_decentlab.ipynb\" target=\"_parent\"><img src=\"https://colab.research.google.com/assets/colab-badge.svg\" alt=\"Open In Colab\"/></a>"
      ]
    },
    {
      "cell_type": "code",
      "source": [
        "import os\n",
        "import pandas as pd\n",
        "import glob\n",
        "import seaborn as sns\n",
        "import matplotlib.pyplot as plt\n",
        "\n",
        "from google.colab import drive\n",
        "drive.mount('/content/drive')\n",
        "\n",
        "# Répertoire de travail\n",
        "# Mettre à jour d'après le dossier contenant les données !\n",
        "\n",
        "dossier_donnees = \"/content/drive/MyDrive/google colab/Fichiers Decentlab\"\n",
        "\n",
        "os.chdir(dossier_donnees)\n",
        "print(\"Nouveau répertoire courant :\", os.getcwd())"
      ],
      "metadata": {
        "colab": {
          "base_uri": "https://localhost:8080/",
          "height": 213
        },
        "collapsed": true,
        "id": "T6Wr2tMvR7YC",
        "outputId": "774a0404-808c-4e02-80dd-5d2fa8be19cc"
      },
      "id": "T6Wr2tMvR7YC",
      "execution_count": null,
      "outputs": [
        {
          "output_type": "stream",
          "name": "stdout",
          "text": [
            "Drive already mounted at /content/drive; to attempt to forcibly remount, call drive.mount(\"/content/drive\", force_remount=True).\n"
          ]
        },
        {
          "output_type": "error",
          "ename": "FileNotFoundError",
          "evalue": "[Errno 2] No such file or directory: '/content/drive/MyDrive/google colab/Fichiers Decentlab'",
          "traceback": [
            "\u001b[0;31m---------------------------------------------------------------------------\u001b[0m",
            "\u001b[0;31mFileNotFoundError\u001b[0m                         Traceback (most recent call last)",
            "\u001b[0;32m/tmp/ipython-input-1640149094.py\u001b[0m in \u001b[0;36m<cell line: 0>\u001b[0;34m()\u001b[0m\n\u001b[1;32m     13\u001b[0m \u001b[0mdossier_donnees\u001b[0m \u001b[0;34m=\u001b[0m \u001b[0;34m\"/content/drive/MyDrive/google colab/Fichiers Decentlab\"\u001b[0m\u001b[0;34m\u001b[0m\u001b[0;34m\u001b[0m\u001b[0m\n\u001b[1;32m     14\u001b[0m \u001b[0;34m\u001b[0m\u001b[0m\n\u001b[0;32m---> 15\u001b[0;31m \u001b[0mos\u001b[0m\u001b[0;34m.\u001b[0m\u001b[0mchdir\u001b[0m\u001b[0;34m(\u001b[0m\u001b[0mdossier_donnees\u001b[0m\u001b[0;34m)\u001b[0m\u001b[0;34m\u001b[0m\u001b[0;34m\u001b[0m\u001b[0m\n\u001b[0m\u001b[1;32m     16\u001b[0m \u001b[0mprint\u001b[0m\u001b[0;34m(\u001b[0m\u001b[0;34m\"Nouveau répertoire courant :\"\u001b[0m\u001b[0;34m,\u001b[0m \u001b[0mos\u001b[0m\u001b[0;34m.\u001b[0m\u001b[0mgetcwd\u001b[0m\u001b[0;34m(\u001b[0m\u001b[0;34m)\u001b[0m\u001b[0;34m)\u001b[0m\u001b[0;34m\u001b[0m\u001b[0;34m\u001b[0m\u001b[0m\n",
            "\u001b[0;31mFileNotFoundError\u001b[0m: [Errno 2] No such file or directory: '/content/drive/MyDrive/google colab/Fichiers Decentlab'"
          ]
        }
      ]
    },
    {
      "cell_type": "code",
      "source": [
        "from google.colab import drive\n",
        "drive.mount('/content/drive')"
      ],
      "metadata": {
        "colab": {
          "base_uri": "https://localhost:8080/"
        },
        "id": "Yr0ACXHNgFww",
        "outputId": "6fe1736c-17b9-423d-f35f-fc604e8dbbad"
      },
      "id": "Yr0ACXHNgFww",
      "execution_count": null,
      "outputs": [
        {
          "output_type": "stream",
          "name": "stdout",
          "text": [
            "Mounted at /content/drive\n"
          ]
        }
      ]
    },
    {
      "cell_type": "code",
      "metadata": {
        "id": "3204c02e"
      },
      "source": [
        "# Chargement des fichiers CSV avec ajout de la colonne 'station'\n",
        "def charger_donnees_csv(liste_chemins_dossiers):\n",
        "    li = []\n",
        "    for chemin_dossier in liste_chemins_dossiers:\n",
        "        all_files = glob.glob(os.path.join(chemin_dossier, \"*.csv\"))\n",
        "        if not all_files:\n",
        "            print(f\"No CSV files found in {chemin_dossier}. Skipping this directory.\")\n",
        "            continue # Skip to the next directory if no files are found\n",
        "\n",
        "        for filename in all_files:\n",
        "            # Extraire le nom de la station à partir du nom de fichier\n",
        "            station_name = os.path.basename(filename).split(\"__\")[0].replace(\"timeseries_table_\", \"\").replace(\"_\", \" \").strip()\n",
        "            df = pd.read_csv(filename, index_col=None, header=0, sep=';')\n",
        "            df['station'] = station_name\n",
        "            li.append(df)\n",
        "\n",
        "    if not li:\n",
        "        print(\"No data loaded from any directory.\")\n",
        "        return pd.DataFrame() # Return an empty DataFrame if no files are found in any directory\n",
        "\n",
        "    frame = pd.concat(li, axis=0, ignore_index=True)\n",
        "    return frame\n",
        "\n",
        "# Charger les données\n",
        "# Provide a list of directories to the function\n",
        "dossiers_donnees_list = [\n",
        "    \"/content/drive/MyDrive/google colab/Fichiers Decentlab/6_mai_8_aout_2025\",\n",
        "    \"/content/drive/MyDrive/google colab/Fichiers Decentlab/8_aout_2025\"\n",
        "]\n",
        "df = charger_donnees_csv(dossiers_donnees_list)\n",
        "\n",
        "# Renommer les colonnes pour cohérence\n",
        "# Check if the DataFrame is not empty before renaming columns\n",
        "if not df.empty:\n",
        "    df = df.rename(columns={\n",
        "        'Timestamp': 'timestamp',\n",
        "        'Temperature': 'temperature',\n",
        "        'Humidity': 'humidity',\n",
        "        'humidity': 'humidity'  # au cas où certaines colonnes sont déjà en minuscules\n",
        "    })\n"
      ],
      "id": "3204c02e",
      "execution_count": null,
      "outputs": []
    },
    {
      "cell_type": "code",
      "source": [
        "# Calcul des moyennes horaires\n",
        "def calculer_moyenne_horaire(df):\n",
        "    df['timestamp'] = pd.to_datetime(df['timestamp'])\n",
        "    df['heure'] = df['timestamp'].dt.floor('h')\n",
        "    moyennes = df.groupby(['station', 'heure'])[['temperature', 'humidity']].mean().reset_index()\n",
        "    return moyennes\n",
        "\n",
        "# Calculate the hourly averages using the combined data\n",
        "moyennes = calculer_moyenne_horaire(df)"
      ],
      "metadata": {
        "id": "chzs5nCoShtt"
      },
      "id": "chzs5nCoShtt",
      "execution_count": null,
      "outputs": []
    },
    {
      "cell_type": "code",
      "metadata": {
        "id": "eded9932"
      },
      "source": [
        "df['timestamp'] = pd.to_datetime(df['timestamp'])\n",
        "df['heure'] = df['timestamp'].dt.floor('h')\n",
        "moyennes = df.groupby(['station', 'heure'])[['temperature', 'humidity']].mean().reset_index()"
      ],
      "id": "eded9932",
      "execution_count": null,
      "outputs": []
    },
    {
      "cell_type": "code",
      "metadata": {
        "collapsed": true,
        "id": "1e77a334"
      },
      "source": [
        "import matplotlib.pyplot as plt\n",
        "import matplotlib.dates as mdates\n",
        "import seaborn as sns\n",
        "import numpy as np\n",
        "\n",
        "start_date = '2025-06-12'\n",
        "filtered_moyennes_viz = moyennes[moyennes['heure'] >= start_date].copy()\n",
        "\n",
        "def plot_time_series(data, y_var, y_label, title, sample_stations=None, figsize=(16, 8)):\n",
        "    \"\"\"\n",
        "    Trace une série temporelle pour une variable donnée,\n",
        "    avec option de prendre un échantillon aléatoire de stations.\n",
        "\n",
        "    Args:\n",
        "        data: DataFrame avec colonnes 'heure', y_var, 'station'\n",
        "        y_var: nom de la colonne à tracer (ex: 'temperature')\n",
        "        y_label: label pour l'axe y\n",
        "        title: titre du graphique\n",
        "        sample_stations: int ou None, nombre de stations à échantillonner (None = toutes)\n",
        "        figsize: taille de la figure (tuple)\n",
        "    \"\"\"\n",
        "    # Échantillonnage des stations si demandé\n",
        "    if sample_stations is not None:\n",
        "        stations_unique = data['station'].unique()\n",
        "        if sample_stations < len(stations_unique):\n",
        "            sampled = np.random.choice(stations_unique, size=sample_stations, replace=False)\n",
        "            data = data[data['station'].isin(sampled)]\n",
        "\n",
        "    plt.figure(figsize=figsize)\n",
        "    sns.set_style(\"whitegrid\")\n",
        "\n",
        "    palette = sns.color_palette(\"tab10\", n_colors=data['station'].nunique())\n",
        "\n",
        "    ax = sns.lineplot(\n",
        "        data=data,\n",
        "        x='heure',\n",
        "        y=y_var,\n",
        "        hue='station',\n",
        "        linewidth=2.5,\n",
        "        alpha=0.9,\n",
        "        palette=palette\n",
        "    )\n",
        "    ax.set_title(title, fontsize=18)\n",
        "    ax.set_xlabel(\"Date\", fontsize=14)\n",
        "    ax.set_ylabel(y_label, fontsize=14)\n",
        "    ax.tick_params(axis='x', rotation=45)\n",
        "    ax.grid(True, linestyle='--', alpha=0.6)\n",
        "    ax.legend(title='Station', bbox_to_anchor=(1.05, 1), loc='upper left', fontsize=12, title_fontsize=13)\n",
        "    ax.xaxis.set_major_locator(mdates.DayLocator(interval=2))\n",
        "    ax.xaxis.set_major_formatter(mdates.DateFormatter('%Y-%m-%d'))\n",
        "    plt.tight_layout(rect=[0, 0, 0.85, 1])\n",
        "    plt.show()\n",
        "\n",
        "# Exemple d’appel pour un échantillon de 6 stations (température)\n",
        "plot_time_series(\n",
        "    filtered_moyennes_viz,\n",
        "    y_var='temperature',\n",
        "    y_label='Température (°C)',\n",
        "    title=\"Température moyenne horaire par station (échantillon de 6 stations à partir du 12 juin)\",\n",
        "    sample_stations=4\n",
        ")\n",
        "\n",
        "# Tracer toutes les stations pour l'humidité (attention si beaucoup de stations)\n",
        "plot_time_series(\n",
        "    filtered_moyennes_viz,\n",
        "    y_var='humidity',\n",
        "    y_label='Humidité (%)',\n",
        "    title=\"Humidité moyenne horaire par station (à partir du 12 juin)\",\n",
        "    sample_stations=4  # Toutes les stations\n",
        ")\n"
      ],
      "id": "1e77a334",
      "execution_count": null,
      "outputs": []
    },
    {
      "cell_type": "code",
      "metadata": {
        "id": "7585e052"
      },
      "source": [
        "output_dir = \"/content/drive/MyDrive/google colab/Export csv\"\n",
        "os.makedirs(output_dir, exist_ok=True)\n",
        "\n",
        "output_path = os.path.join(output_dir, \"decentlab_moyennes_horaires.csv\")\n",
        "moyennes.to_csv(output_path, index=False)\n",
        "print(f\"✅ Fichier '{output_path}' exporté avec succès.\")"
      ],
      "id": "7585e052",
      "execution_count": null,
      "outputs": []
    }
  ],
  "metadata": {
    "colab": {
      "provenance": [],
      "include_colab_link": true
    },
    "language_info": {
      "name": "python"
    },
    "kernelspec": {
      "name": "python3",
      "display_name": "Python 3"
    }
  },
  "nbformat": 4,
  "nbformat_minor": 5
}